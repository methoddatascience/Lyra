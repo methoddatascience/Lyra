{
 "cells": [
  {
   "cell_type": "code",
   "execution_count": 2,
   "metadata": {},
   "outputs": [],
   "source": [
    "import pandas as pd\n",
    "import re\n",
    "from nltk.corpus import stopwords \n",
    "import numpy as np\n",
    "from sklearn.feature_extraction.text import TfidfVectorizer\n",
    "from sklearn.metrics.pairwise import cosine_similarity"
   ]
  },
  {
   "cell_type": "code",
   "execution_count": 3,
   "metadata": {},
   "outputs": [],
   "source": [
    "df = pd.read_csv('yelp_review.csv')"
   ]
  },
  {
   "cell_type": "code",
   "execution_count": 4,
   "metadata": {},
   "outputs": [
    {
     "data": {
      "text/html": [
       "<div>\n",
       "<style scoped>\n",
       "    .dataframe tbody tr th:only-of-type {\n",
       "        vertical-align: middle;\n",
       "    }\n",
       "\n",
       "    .dataframe tbody tr th {\n",
       "        vertical-align: top;\n",
       "    }\n",
       "\n",
       "    .dataframe thead th {\n",
       "        text-align: right;\n",
       "    }\n",
       "</style>\n",
       "<table border=\"1\" class=\"dataframe\">\n",
       "  <thead>\n",
       "    <tr style=\"text-align: right;\">\n",
       "      <th></th>\n",
       "      <th>review_id</th>\n",
       "      <th>user_id</th>\n",
       "      <th>business_id</th>\n",
       "      <th>stars</th>\n",
       "      <th>date</th>\n",
       "      <th>text</th>\n",
       "      <th>useful</th>\n",
       "      <th>funny</th>\n",
       "      <th>cool</th>\n",
       "    </tr>\n",
       "  </thead>\n",
       "  <tbody>\n",
       "    <tr>\n",
       "      <th>0</th>\n",
       "      <td>vkVSCC7xljjrAI4UGfnKEQ</td>\n",
       "      <td>bv2nCi5Qv5vroFiqKGopiw</td>\n",
       "      <td>AEx2SYEUJmTxVVB18LlCwA</td>\n",
       "      <td>5</td>\n",
       "      <td>2016-05-28</td>\n",
       "      <td>Super simple place but amazing nonetheless. It...</td>\n",
       "      <td>0</td>\n",
       "      <td>0</td>\n",
       "      <td>0</td>\n",
       "    </tr>\n",
       "    <tr>\n",
       "      <th>1</th>\n",
       "      <td>n6QzIUObkYshz4dz2QRJTw</td>\n",
       "      <td>bv2nCi5Qv5vroFiqKGopiw</td>\n",
       "      <td>VR6GpWIda3SfvPC-lg9H3w</td>\n",
       "      <td>5</td>\n",
       "      <td>2016-05-28</td>\n",
       "      <td>Small unassuming place that changes their menu...</td>\n",
       "      <td>0</td>\n",
       "      <td>0</td>\n",
       "      <td>0</td>\n",
       "    </tr>\n",
       "    <tr>\n",
       "      <th>2</th>\n",
       "      <td>MV3CcKScW05u5LVfF6ok0g</td>\n",
       "      <td>bv2nCi5Qv5vroFiqKGopiw</td>\n",
       "      <td>CKC0-MOWMqoeWf6s-szl8g</td>\n",
       "      <td>5</td>\n",
       "      <td>2016-05-28</td>\n",
       "      <td>Lester's is located in a beautiful neighborhoo...</td>\n",
       "      <td>0</td>\n",
       "      <td>0</td>\n",
       "      <td>0</td>\n",
       "    </tr>\n",
       "    <tr>\n",
       "      <th>3</th>\n",
       "      <td>IXvOzsEMYtiJI0CARmj77Q</td>\n",
       "      <td>bv2nCi5Qv5vroFiqKGopiw</td>\n",
       "      <td>ACFtxLv8pGrrxMm6EgjreA</td>\n",
       "      <td>4</td>\n",
       "      <td>2016-05-28</td>\n",
       "      <td>Love coming here. Yes the place always needs t...</td>\n",
       "      <td>0</td>\n",
       "      <td>0</td>\n",
       "      <td>0</td>\n",
       "    </tr>\n",
       "    <tr>\n",
       "      <th>4</th>\n",
       "      <td>L_9BTb55X0GDtThi6GlZ6w</td>\n",
       "      <td>bv2nCi5Qv5vroFiqKGopiw</td>\n",
       "      <td>s2I_Ni76bjJNK9yG60iD-Q</td>\n",
       "      <td>4</td>\n",
       "      <td>2016-05-28</td>\n",
       "      <td>Had their chocolate almond croissant and it wa...</td>\n",
       "      <td>0</td>\n",
       "      <td>0</td>\n",
       "      <td>0</td>\n",
       "    </tr>\n",
       "  </tbody>\n",
       "</table>\n",
       "</div>"
      ],
      "text/plain": [
       "                review_id                 user_id             business_id  \\\n",
       "0  vkVSCC7xljjrAI4UGfnKEQ  bv2nCi5Qv5vroFiqKGopiw  AEx2SYEUJmTxVVB18LlCwA   \n",
       "1  n6QzIUObkYshz4dz2QRJTw  bv2nCi5Qv5vroFiqKGopiw  VR6GpWIda3SfvPC-lg9H3w   \n",
       "2  MV3CcKScW05u5LVfF6ok0g  bv2nCi5Qv5vroFiqKGopiw  CKC0-MOWMqoeWf6s-szl8g   \n",
       "3  IXvOzsEMYtiJI0CARmj77Q  bv2nCi5Qv5vroFiqKGopiw  ACFtxLv8pGrrxMm6EgjreA   \n",
       "4  L_9BTb55X0GDtThi6GlZ6w  bv2nCi5Qv5vroFiqKGopiw  s2I_Ni76bjJNK9yG60iD-Q   \n",
       "\n",
       "   stars        date                                               text  \\\n",
       "0      5  2016-05-28  Super simple place but amazing nonetheless. It...   \n",
       "1      5  2016-05-28  Small unassuming place that changes their menu...   \n",
       "2      5  2016-05-28  Lester's is located in a beautiful neighborhoo...   \n",
       "3      4  2016-05-28  Love coming here. Yes the place always needs t...   \n",
       "4      4  2016-05-28  Had their chocolate almond croissant and it wa...   \n",
       "\n",
       "   useful  funny  cool  \n",
       "0       0      0     0  \n",
       "1       0      0     0  \n",
       "2       0      0     0  \n",
       "3       0      0     0  \n",
       "4       0      0     0  "
      ]
     },
     "execution_count": 4,
     "metadata": {},
     "output_type": "execute_result"
    }
   ],
   "source": [
    "df.head()"
   ]
  },
  {
   "cell_type": "code",
   "execution_count": 5,
   "metadata": {},
   "outputs": [],
   "source": [
    "#reading dataset with information about business(type)\n",
    "data_business=pd.read_csv('yelp_business.csv')"
   ]
  },
  {
   "cell_type": "code",
   "execution_count": 6,
   "metadata": {},
   "outputs": [
    {
     "data": {
      "text/html": [
       "<div>\n",
       "<style scoped>\n",
       "    .dataframe tbody tr th:only-of-type {\n",
       "        vertical-align: middle;\n",
       "    }\n",
       "\n",
       "    .dataframe tbody tr th {\n",
       "        vertical-align: top;\n",
       "    }\n",
       "\n",
       "    .dataframe thead th {\n",
       "        text-align: right;\n",
       "    }\n",
       "</style>\n",
       "<table border=\"1\" class=\"dataframe\">\n",
       "  <thead>\n",
       "    <tr style=\"text-align: right;\">\n",
       "      <th></th>\n",
       "      <th>business_id</th>\n",
       "      <th>name</th>\n",
       "      <th>neighborhood</th>\n",
       "      <th>address</th>\n",
       "      <th>city</th>\n",
       "      <th>state</th>\n",
       "      <th>postal_code</th>\n",
       "      <th>latitude</th>\n",
       "      <th>longitude</th>\n",
       "      <th>stars</th>\n",
       "      <th>review_count</th>\n",
       "      <th>is_open</th>\n",
       "      <th>categories</th>\n",
       "    </tr>\n",
       "  </thead>\n",
       "  <tbody>\n",
       "    <tr>\n",
       "      <th>0</th>\n",
       "      <td>FYWN1wneV18bWNgQjJ2GNg</td>\n",
       "      <td>\"Dental by Design\"</td>\n",
       "      <td>NaN</td>\n",
       "      <td>\"4855 E Warner Rd, Ste B9\"</td>\n",
       "      <td>Ahwatukee</td>\n",
       "      <td>AZ</td>\n",
       "      <td>85044</td>\n",
       "      <td>33.330690</td>\n",
       "      <td>-111.978599</td>\n",
       "      <td>4.0</td>\n",
       "      <td>22</td>\n",
       "      <td>1</td>\n",
       "      <td>Dentists;General Dentistry;Health &amp; Medical;Or...</td>\n",
       "    </tr>\n",
       "    <tr>\n",
       "      <th>1</th>\n",
       "      <td>He-G7vWjzVUysIKrfNbPUQ</td>\n",
       "      <td>\"Stephen Szabo Salon\"</td>\n",
       "      <td>NaN</td>\n",
       "      <td>\"3101 Washington Rd\"</td>\n",
       "      <td>McMurray</td>\n",
       "      <td>PA</td>\n",
       "      <td>15317</td>\n",
       "      <td>40.291685</td>\n",
       "      <td>-80.104900</td>\n",
       "      <td>3.0</td>\n",
       "      <td>11</td>\n",
       "      <td>1</td>\n",
       "      <td>Hair Stylists;Hair Salons;Men's Hair Salons;Bl...</td>\n",
       "    </tr>\n",
       "    <tr>\n",
       "      <th>2</th>\n",
       "      <td>KQPW8lFf1y5BT2MxiSZ3QA</td>\n",
       "      <td>\"Western Motor Vehicle\"</td>\n",
       "      <td>NaN</td>\n",
       "      <td>\"6025 N 27th Ave, Ste 1\"</td>\n",
       "      <td>Phoenix</td>\n",
       "      <td>AZ</td>\n",
       "      <td>85017</td>\n",
       "      <td>33.524903</td>\n",
       "      <td>-112.115310</td>\n",
       "      <td>1.5</td>\n",
       "      <td>18</td>\n",
       "      <td>1</td>\n",
       "      <td>Departments of Motor Vehicles;Public Services ...</td>\n",
       "    </tr>\n",
       "    <tr>\n",
       "      <th>3</th>\n",
       "      <td>8DShNS-LuFqpEWIp0HxijA</td>\n",
       "      <td>\"Sports Authority\"</td>\n",
       "      <td>NaN</td>\n",
       "      <td>\"5000 Arizona Mills Cr, Ste 435\"</td>\n",
       "      <td>Tempe</td>\n",
       "      <td>AZ</td>\n",
       "      <td>85282</td>\n",
       "      <td>33.383147</td>\n",
       "      <td>-111.964725</td>\n",
       "      <td>3.0</td>\n",
       "      <td>9</td>\n",
       "      <td>0</td>\n",
       "      <td>Sporting Goods;Shopping</td>\n",
       "    </tr>\n",
       "    <tr>\n",
       "      <th>4</th>\n",
       "      <td>PfOCPjBrlQAnz__NXj9h_w</td>\n",
       "      <td>\"Brick House Tavern + Tap\"</td>\n",
       "      <td>NaN</td>\n",
       "      <td>\"581 Howe Ave\"</td>\n",
       "      <td>Cuyahoga Falls</td>\n",
       "      <td>OH</td>\n",
       "      <td>44221</td>\n",
       "      <td>41.119535</td>\n",
       "      <td>-81.475690</td>\n",
       "      <td>3.5</td>\n",
       "      <td>116</td>\n",
       "      <td>1</td>\n",
       "      <td>American (New);Nightlife;Bars;Sandwiches;Ameri...</td>\n",
       "    </tr>\n",
       "  </tbody>\n",
       "</table>\n",
       "</div>"
      ],
      "text/plain": [
       "              business_id                        name neighborhood  \\\n",
       "0  FYWN1wneV18bWNgQjJ2GNg          \"Dental by Design\"          NaN   \n",
       "1  He-G7vWjzVUysIKrfNbPUQ       \"Stephen Szabo Salon\"          NaN   \n",
       "2  KQPW8lFf1y5BT2MxiSZ3QA     \"Western Motor Vehicle\"          NaN   \n",
       "3  8DShNS-LuFqpEWIp0HxijA          \"Sports Authority\"          NaN   \n",
       "4  PfOCPjBrlQAnz__NXj9h_w  \"Brick House Tavern + Tap\"          NaN   \n",
       "\n",
       "                            address            city state postal_code  \\\n",
       "0        \"4855 E Warner Rd, Ste B9\"       Ahwatukee    AZ       85044   \n",
       "1              \"3101 Washington Rd\"        McMurray    PA       15317   \n",
       "2          \"6025 N 27th Ave, Ste 1\"         Phoenix    AZ       85017   \n",
       "3  \"5000 Arizona Mills Cr, Ste 435\"           Tempe    AZ       85282   \n",
       "4                    \"581 Howe Ave\"  Cuyahoga Falls    OH       44221   \n",
       "\n",
       "    latitude   longitude  stars  review_count  is_open  \\\n",
       "0  33.330690 -111.978599    4.0            22        1   \n",
       "1  40.291685  -80.104900    3.0            11        1   \n",
       "2  33.524903 -112.115310    1.5            18        1   \n",
       "3  33.383147 -111.964725    3.0             9        0   \n",
       "4  41.119535  -81.475690    3.5           116        1   \n",
       "\n",
       "                                          categories  \n",
       "0  Dentists;General Dentistry;Health & Medical;Or...  \n",
       "1  Hair Stylists;Hair Salons;Men's Hair Salons;Bl...  \n",
       "2  Departments of Motor Vehicles;Public Services ...  \n",
       "3                            Sporting Goods;Shopping  \n",
       "4  American (New);Nightlife;Bars;Sandwiches;Ameri...  "
      ]
     },
     "execution_count": 6,
     "metadata": {},
     "output_type": "execute_result"
    }
   ],
   "source": [
    "data_business.head()"
   ]
  },
  {
   "cell_type": "code",
   "execution_count": 7,
   "metadata": {},
   "outputs": [],
   "source": [
    "business=data_business[data_business['categories'].str.match('Restaurant')].copy()"
   ]
  },
  {
   "cell_type": "code",
   "execution_count": 8,
   "metadata": {},
   "outputs": [],
   "source": [
    "# merging reviews and businnes based on business_id\n",
    "f1=pd.merge(df, business, on='business_id')"
   ]
  },
  {
   "cell_type": "code",
   "execution_count": 9,
   "metadata": {
    "scrolled": false
   },
   "outputs": [
    {
     "data": {
      "text/html": [
       "<div>\n",
       "<style scoped>\n",
       "    .dataframe tbody tr th:only-of-type {\n",
       "        vertical-align: middle;\n",
       "    }\n",
       "\n",
       "    .dataframe tbody tr th {\n",
       "        vertical-align: top;\n",
       "    }\n",
       "\n",
       "    .dataframe thead th {\n",
       "        text-align: right;\n",
       "    }\n",
       "</style>\n",
       "<table border=\"1\" class=\"dataframe\">\n",
       "  <thead>\n",
       "    <tr style=\"text-align: right;\">\n",
       "      <th></th>\n",
       "      <th>review_id</th>\n",
       "      <th>user_id</th>\n",
       "      <th>business_id</th>\n",
       "      <th>stars_x</th>\n",
       "      <th>date</th>\n",
       "      <th>text</th>\n",
       "      <th>useful</th>\n",
       "      <th>funny</th>\n",
       "      <th>cool</th>\n",
       "      <th>name</th>\n",
       "      <th>...</th>\n",
       "      <th>address</th>\n",
       "      <th>city</th>\n",
       "      <th>state</th>\n",
       "      <th>postal_code</th>\n",
       "      <th>latitude</th>\n",
       "      <th>longitude</th>\n",
       "      <th>stars_y</th>\n",
       "      <th>review_count</th>\n",
       "      <th>is_open</th>\n",
       "      <th>categories</th>\n",
       "    </tr>\n",
       "  </thead>\n",
       "  <tbody>\n",
       "    <tr>\n",
       "      <th>0</th>\n",
       "      <td>n6QzIUObkYshz4dz2QRJTw</td>\n",
       "      <td>bv2nCi5Qv5vroFiqKGopiw</td>\n",
       "      <td>VR6GpWIda3SfvPC-lg9H3w</td>\n",
       "      <td>5</td>\n",
       "      <td>2016-05-28</td>\n",
       "      <td>Small unassuming place that changes their menu...</td>\n",
       "      <td>0</td>\n",
       "      <td>0</td>\n",
       "      <td>0</td>\n",
       "      <td>\"Tuck Shop\"</td>\n",
       "      <td>...</td>\n",
       "      <td>\"4662 Rue Notre-Dame O\"</td>\n",
       "      <td>Montréal</td>\n",
       "      <td>QC</td>\n",
       "      <td>H4C 1S7</td>\n",
       "      <td>45.472902</td>\n",
       "      <td>-73.588321</td>\n",
       "      <td>4.5</td>\n",
       "      <td>50</td>\n",
       "      <td>1</td>\n",
       "      <td>Restaurants;Canadian (New);Italian</td>\n",
       "    </tr>\n",
       "    <tr>\n",
       "      <th>1</th>\n",
       "      <td>VrhTbFhgUa4zmx6jfqp_hQ</td>\n",
       "      <td>gKYaocnFD8Zi6rMt_mT-cw</td>\n",
       "      <td>VR6GpWIda3SfvPC-lg9H3w</td>\n",
       "      <td>5</td>\n",
       "      <td>2015-01-31</td>\n",
       "      <td>Highly recommend checking this place out!  Tuc...</td>\n",
       "      <td>1</td>\n",
       "      <td>0</td>\n",
       "      <td>0</td>\n",
       "      <td>\"Tuck Shop\"</td>\n",
       "      <td>...</td>\n",
       "      <td>\"4662 Rue Notre-Dame O\"</td>\n",
       "      <td>Montréal</td>\n",
       "      <td>QC</td>\n",
       "      <td>H4C 1S7</td>\n",
       "      <td>45.472902</td>\n",
       "      <td>-73.588321</td>\n",
       "      <td>4.5</td>\n",
       "      <td>50</td>\n",
       "      <td>1</td>\n",
       "      <td>Restaurants;Canadian (New);Italian</td>\n",
       "    </tr>\n",
       "    <tr>\n",
       "      <th>2</th>\n",
       "      <td>XMJ_sHKVrtqJZ4IXA0I9wA</td>\n",
       "      <td>Vp_C7oIxeztbd2PchNBOHw</td>\n",
       "      <td>VR6GpWIda3SfvPC-lg9H3w</td>\n",
       "      <td>4</td>\n",
       "      <td>2011-10-23</td>\n",
       "      <td>This restaurant is part of the wave of trendy ...</td>\n",
       "      <td>1</td>\n",
       "      <td>0</td>\n",
       "      <td>4</td>\n",
       "      <td>\"Tuck Shop\"</td>\n",
       "      <td>...</td>\n",
       "      <td>\"4662 Rue Notre-Dame O\"</td>\n",
       "      <td>Montréal</td>\n",
       "      <td>QC</td>\n",
       "      <td>H4C 1S7</td>\n",
       "      <td>45.472902</td>\n",
       "      <td>-73.588321</td>\n",
       "      <td>4.5</td>\n",
       "      <td>50</td>\n",
       "      <td>1</td>\n",
       "      <td>Restaurants;Canadian (New);Italian</td>\n",
       "    </tr>\n",
       "    <tr>\n",
       "      <th>3</th>\n",
       "      <td>MhA0-xaUx4o4Pl_GQUr_ZQ</td>\n",
       "      <td>tB6vkXCS_8PIh-T9g8t6IQ</td>\n",
       "      <td>VR6GpWIda3SfvPC-lg9H3w</td>\n",
       "      <td>5</td>\n",
       "      <td>2011-07-22</td>\n",
       "      <td>It's in a sketchy area, but it's upscale and l...</td>\n",
       "      <td>2</td>\n",
       "      <td>0</td>\n",
       "      <td>1</td>\n",
       "      <td>\"Tuck Shop\"</td>\n",
       "      <td>...</td>\n",
       "      <td>\"4662 Rue Notre-Dame O\"</td>\n",
       "      <td>Montréal</td>\n",
       "      <td>QC</td>\n",
       "      <td>H4C 1S7</td>\n",
       "      <td>45.472902</td>\n",
       "      <td>-73.588321</td>\n",
       "      <td>4.5</td>\n",
       "      <td>50</td>\n",
       "      <td>1</td>\n",
       "      <td>Restaurants;Canadian (New);Italian</td>\n",
       "    </tr>\n",
       "    <tr>\n",
       "      <th>4</th>\n",
       "      <td>ziRcRyoy96J1Wj_WN-pM2Q</td>\n",
       "      <td>i1XAHltBpZC5zP5skcwVGw</td>\n",
       "      <td>VR6GpWIda3SfvPC-lg9H3w</td>\n",
       "      <td>4</td>\n",
       "      <td>2014-11-01</td>\n",
       "      <td>A local friend introduced me to this jewel res...</td>\n",
       "      <td>3</td>\n",
       "      <td>2</td>\n",
       "      <td>2</td>\n",
       "      <td>\"Tuck Shop\"</td>\n",
       "      <td>...</td>\n",
       "      <td>\"4662 Rue Notre-Dame O\"</td>\n",
       "      <td>Montréal</td>\n",
       "      <td>QC</td>\n",
       "      <td>H4C 1S7</td>\n",
       "      <td>45.472902</td>\n",
       "      <td>-73.588321</td>\n",
       "      <td>4.5</td>\n",
       "      <td>50</td>\n",
       "      <td>1</td>\n",
       "      <td>Restaurants;Canadian (New);Italian</td>\n",
       "    </tr>\n",
       "  </tbody>\n",
       "</table>\n",
       "<p>5 rows × 21 columns</p>\n",
       "</div>"
      ],
      "text/plain": [
       "                review_id                 user_id             business_id  \\\n",
       "0  n6QzIUObkYshz4dz2QRJTw  bv2nCi5Qv5vroFiqKGopiw  VR6GpWIda3SfvPC-lg9H3w   \n",
       "1  VrhTbFhgUa4zmx6jfqp_hQ  gKYaocnFD8Zi6rMt_mT-cw  VR6GpWIda3SfvPC-lg9H3w   \n",
       "2  XMJ_sHKVrtqJZ4IXA0I9wA  Vp_C7oIxeztbd2PchNBOHw  VR6GpWIda3SfvPC-lg9H3w   \n",
       "3  MhA0-xaUx4o4Pl_GQUr_ZQ  tB6vkXCS_8PIh-T9g8t6IQ  VR6GpWIda3SfvPC-lg9H3w   \n",
       "4  ziRcRyoy96J1Wj_WN-pM2Q  i1XAHltBpZC5zP5skcwVGw  VR6GpWIda3SfvPC-lg9H3w   \n",
       "\n",
       "   stars_x        date                                               text  \\\n",
       "0        5  2016-05-28  Small unassuming place that changes their menu...   \n",
       "1        5  2015-01-31  Highly recommend checking this place out!  Tuc...   \n",
       "2        4  2011-10-23  This restaurant is part of the wave of trendy ...   \n",
       "3        5  2011-07-22  It's in a sketchy area, but it's upscale and l...   \n",
       "4        4  2014-11-01  A local friend introduced me to this jewel res...   \n",
       "\n",
       "   useful  funny  cool         name                 ...                  \\\n",
       "0       0      0     0  \"Tuck Shop\"                 ...                   \n",
       "1       1      0     0  \"Tuck Shop\"                 ...                   \n",
       "2       1      0     4  \"Tuck Shop\"                 ...                   \n",
       "3       2      0     1  \"Tuck Shop\"                 ...                   \n",
       "4       3      2     2  \"Tuck Shop\"                 ...                   \n",
       "\n",
       "                   address      city state postal_code   latitude  longitude  \\\n",
       "0  \"4662 Rue Notre-Dame O\"  Montréal    QC     H4C 1S7  45.472902 -73.588321   \n",
       "1  \"4662 Rue Notre-Dame O\"  Montréal    QC     H4C 1S7  45.472902 -73.588321   \n",
       "2  \"4662 Rue Notre-Dame O\"  Montréal    QC     H4C 1S7  45.472902 -73.588321   \n",
       "3  \"4662 Rue Notre-Dame O\"  Montréal    QC     H4C 1S7  45.472902 -73.588321   \n",
       "4  \"4662 Rue Notre-Dame O\"  Montréal    QC     H4C 1S7  45.472902 -73.588321   \n",
       "\n",
       "   stars_y  review_count  is_open                          categories  \n",
       "0      4.5            50        1  Restaurants;Canadian (New);Italian  \n",
       "1      4.5            50        1  Restaurants;Canadian (New);Italian  \n",
       "2      4.5            50        1  Restaurants;Canadian (New);Italian  \n",
       "3      4.5            50        1  Restaurants;Canadian (New);Italian  \n",
       "4      4.5            50        1  Restaurants;Canadian (New);Italian  \n",
       "\n",
       "[5 rows x 21 columns]"
      ]
     },
     "execution_count": 9,
     "metadata": {},
     "output_type": "execute_result"
    }
   ],
   "source": [
    "f1.head()"
   ]
  },
  {
   "cell_type": "markdown",
   "metadata": {},
   "source": [
    "Important features user_id, text, stars_x (rating from user)"
   ]
  },
  {
   "cell_type": "code",
   "execution_count": 25,
   "metadata": {},
   "outputs": [],
   "source": [
    "review_df = f1[['user_id','name','stars_x', 'text','city', 'categories']]"
   ]
  },
  {
   "cell_type": "code",
   "execution_count": 18,
   "metadata": {},
   "outputs": [
    {
     "data": {
      "text/plain": [
       "(897135, 6)"
      ]
     },
     "execution_count": 18,
     "metadata": {},
     "output_type": "execute_result"
    }
   ],
   "source": [
    "review_df.shape"
   ]
  },
  {
   "cell_type": "code",
   "execution_count": 19,
   "metadata": {},
   "outputs": [
    {
     "data": {
      "text/html": [
       "<div>\n",
       "<style scoped>\n",
       "    .dataframe tbody tr th:only-of-type {\n",
       "        vertical-align: middle;\n",
       "    }\n",
       "\n",
       "    .dataframe tbody tr th {\n",
       "        vertical-align: top;\n",
       "    }\n",
       "\n",
       "    .dataframe thead th {\n",
       "        text-align: right;\n",
       "    }\n",
       "</style>\n",
       "<table border=\"1\" class=\"dataframe\">\n",
       "  <thead>\n",
       "    <tr style=\"text-align: right;\">\n",
       "      <th></th>\n",
       "      <th>user_id</th>\n",
       "      <th>name</th>\n",
       "      <th>stars_x</th>\n",
       "      <th>text</th>\n",
       "      <th>city</th>\n",
       "      <th>categories</th>\n",
       "    </tr>\n",
       "  </thead>\n",
       "  <tbody>\n",
       "    <tr>\n",
       "      <th>0</th>\n",
       "      <td>bv2nCi5Qv5vroFiqKGopiw</td>\n",
       "      <td>\"Tuck Shop\"</td>\n",
       "      <td>5</td>\n",
       "      <td>Small unassuming place that changes their menu...</td>\n",
       "      <td>Montréal</td>\n",
       "      <td>Restaurants;Canadian (New);Italian</td>\n",
       "    </tr>\n",
       "    <tr>\n",
       "      <th>1</th>\n",
       "      <td>gKYaocnFD8Zi6rMt_mT-cw</td>\n",
       "      <td>\"Tuck Shop\"</td>\n",
       "      <td>5</td>\n",
       "      <td>Highly recommend checking this place out!  Tuc...</td>\n",
       "      <td>Montréal</td>\n",
       "      <td>Restaurants;Canadian (New);Italian</td>\n",
       "    </tr>\n",
       "    <tr>\n",
       "      <th>2</th>\n",
       "      <td>Vp_C7oIxeztbd2PchNBOHw</td>\n",
       "      <td>\"Tuck Shop\"</td>\n",
       "      <td>4</td>\n",
       "      <td>This restaurant is part of the wave of trendy ...</td>\n",
       "      <td>Montréal</td>\n",
       "      <td>Restaurants;Canadian (New);Italian</td>\n",
       "    </tr>\n",
       "    <tr>\n",
       "      <th>3</th>\n",
       "      <td>tB6vkXCS_8PIh-T9g8t6IQ</td>\n",
       "      <td>\"Tuck Shop\"</td>\n",
       "      <td>5</td>\n",
       "      <td>It's in a sketchy area, but it's upscale and l...</td>\n",
       "      <td>Montréal</td>\n",
       "      <td>Restaurants;Canadian (New);Italian</td>\n",
       "    </tr>\n",
       "    <tr>\n",
       "      <th>4</th>\n",
       "      <td>i1XAHltBpZC5zP5skcwVGw</td>\n",
       "      <td>\"Tuck Shop\"</td>\n",
       "      <td>4</td>\n",
       "      <td>A local friend introduced me to this jewel res...</td>\n",
       "      <td>Montréal</td>\n",
       "      <td>Restaurants;Canadian (New);Italian</td>\n",
       "    </tr>\n",
       "  </tbody>\n",
       "</table>\n",
       "</div>"
      ],
      "text/plain": [
       "                  user_id         name  stars_x  \\\n",
       "0  bv2nCi5Qv5vroFiqKGopiw  \"Tuck Shop\"        5   \n",
       "1  gKYaocnFD8Zi6rMt_mT-cw  \"Tuck Shop\"        5   \n",
       "2  Vp_C7oIxeztbd2PchNBOHw  \"Tuck Shop\"        4   \n",
       "3  tB6vkXCS_8PIh-T9g8t6IQ  \"Tuck Shop\"        5   \n",
       "4  i1XAHltBpZC5zP5skcwVGw  \"Tuck Shop\"        4   \n",
       "\n",
       "                                                text      city  \\\n",
       "0  Small unassuming place that changes their menu...  Montréal   \n",
       "1  Highly recommend checking this place out!  Tuc...  Montréal   \n",
       "2  This restaurant is part of the wave of trendy ...  Montréal   \n",
       "3  It's in a sketchy area, but it's upscale and l...  Montréal   \n",
       "4  A local friend introduced me to this jewel res...  Montréal   \n",
       "\n",
       "                           categories  \n",
       "0  Restaurants;Canadian (New);Italian  \n",
       "1  Restaurants;Canadian (New);Italian  \n",
       "2  Restaurants;Canadian (New);Italian  \n",
       "3  Restaurants;Canadian (New);Italian  \n",
       "4  Restaurants;Canadian (New);Italian  "
      ]
     },
     "execution_count": 19,
     "metadata": {},
     "output_type": "execute_result"
    }
   ],
   "source": [
    "review_df.head()"
   ]
  },
  {
   "cell_type": "code",
   "execution_count": 20,
   "metadata": {},
   "outputs": [
    {
     "data": {
      "text/plain": [
       "pandas.core.series.Series"
      ]
     },
     "execution_count": 20,
     "metadata": {},
     "output_type": "execute_result"
    }
   ],
   "source": [
    "type(review_df['categories'])"
   ]
  },
  {
   "cell_type": "code",
   "execution_count": 22,
   "metadata": {},
   "outputs": [],
   "source": [
    "#exporting csv\n",
    "review_df.to_csv('example.csv')"
   ]
  },
  {
   "cell_type": "code",
   "execution_count": 27,
   "metadata": {},
   "outputs": [
    {
     "data": {
      "text/plain": [
       "13819"
      ]
     },
     "execution_count": 27,
     "metadata": {},
     "output_type": "execute_result"
    }
   ],
   "source": [
    "#number of restaurant\n",
    "len(review_df['name'].unique().tolist())"
   ]
  },
  {
   "cell_type": "code",
   "execution_count": 28,
   "metadata": {},
   "outputs": [
    {
     "data": {
      "text/plain": [
       "553"
      ]
     },
     "execution_count": 28,
     "metadata": {},
     "output_type": "execute_result"
    }
   ],
   "source": [
    "#number of cities\n",
    "len(review_df['city'].unique().tolist())"
   ]
  },
  {
   "cell_type": "code",
   "execution_count": 29,
   "metadata": {},
   "outputs": [
    {
     "data": {
      "text/plain": [
       "\"MGM Grand Hotel\"                                3445\n",
       "\"McDonald's\"                                     3284\n",
       "\"Hash House A Go Go\"                             3051\n",
       "\"SkinnyFATS\"                                     2705\n",
       "\"Egg & I\"                                        2594\n",
       "\"Pizzeria Bianco\"                                2534\n",
       "\"Chipotle Mexican Grill\"                         2519\n",
       "\"Yardbird Southern Table & Bar\"                  2361\n",
       "\"Rollin Smoke Barbeque\"                          2320\n",
       "\"Oyster Bar\"                                     2293\n",
       "\"Monta Ramen\"                                    2290\n",
       "\"In-N-Out Burger\"                                2246\n",
       "\"Yama Sushi\"                                     2242\n",
       "\"SUSHISAMBA - Las Vegas\"                         2100\n",
       "\"Eat.\"                                           1940\n",
       "\"Pampas Churrascaria Brazilian Grille\"           1909\n",
       "\"Red Robin Gourmet Burgers\"                      1884\n",
       "\"Smashburger\"                                    1858\n",
       "\"Oregano's Pizza Bistro\"                         1827\n",
       "\"Capriotti's Sandwich Shop\"                      1802\n",
       "\"Rehab Burger Therapy\"                           1721\n",
       "\"Spice Market Buffet\"                            1708\n",
       "\"Subway\"                                         1660\n",
       "\"The Mission Old Town\"                           1657\n",
       "\"Outback Steakhouse\"                             1591\n",
       "\"Matt's Big Breakfast\"                           1522\n",
       "\"LAVO Italian Restaurant & Lounge\"               1474\n",
       "\"Little Miss BBQ\"                                1465\n",
       "\"Border Grill\"                                   1434\n",
       "\"Grimaldi's Pizzeria\"                            1412\n",
       "                                                 ... \n",
       "\"Vaquero's\"                                         3\n",
       "\"Restaurant Marktstube\"                             3\n",
       "\"Papas Shawarma & Grinders\"                         3\n",
       "\"Moksha Restaurant\"                                 3\n",
       "\"Roxy's\"                                            3\n",
       "\"Whataburger Restaurants\"                           3\n",
       "\"Pizzeria Marcello\"                                 3\n",
       "\"Pizza Wellington\"                                  3\n",
       "\"The Fan Club\"                                      3\n",
       "\"Marc's Authentic Italian\"                          3\n",
       "\"Milio's Subs\"                                      3\n",
       "\"Mountaineering,Camping & Skiing Graham Tiso\"       3\n",
       "\"Burton's BBQ\"                                      3\n",
       "\"Fortunes\"                                          3\n",
       "\"Celebrations Bar Banquet and Grill\"                3\n",
       "\"La Strada\"                                         3\n",
       "\"Ernie & Ellie's Place\"                             3\n",
       "\"Mariscos El Mariachi #2\"                           3\n",
       "\"McDonalds # 2514\"                                  3\n",
       "\"Seasons\"                                           3\n",
       "\"2 Cochons\"                                         3\n",
       "\"Best Steak & Gyros House\"                          3\n",
       "\"Za Za Food & Drink\"                                3\n",
       "\"Biggie Burgers\"                                    3\n",
       "\"Vienna Hot Dog/Mrs. Fields\"                        3\n",
       "\"Pinocchio\"                                         3\n",
       "\"Mariscos La Phoenikera\"                            3\n",
       "\"Lola Rosa William\"                                 3\n",
       "\"Paradis Montréal\"                                  3\n",
       "\"Manila Sunshine Restaurant\"                        2\n",
       "Name: name, Length: 13819, dtype: int64"
      ]
     },
     "execution_count": 29,
     "metadata": {},
     "output_type": "execute_result"
    }
   ],
   "source": [
    "#number of comments per restaurant, restaurant chain increase numbre  of comments\n",
    "review_df['name'].value_counts()"
   ]
  },
  {
   "cell_type": "code",
   "execution_count": 30,
   "metadata": {},
   "outputs": [
    {
     "data": {
      "text/plain": [
       "Las Vegas                  244973\n",
       "Phoenix                     89916\n",
       "Toronto                     88926\n",
       "Scottsdale                  44855\n",
       "Charlotte                   42736\n",
       "Pittsburgh                  35664\n",
       "Montréal                    28229\n",
       "Tempe                       26410\n",
       "Chandler                    23518\n",
       "Henderson                   20776\n",
       "Mesa                        18838\n",
       "Cleveland                   17887\n",
       "Gilbert                     14433\n",
       "Madison                     14247\n",
       "Glendale                    11832\n",
       "Mississauga                 10647\n",
       "Markham                      8873\n",
       "Peoria                       7910\n",
       "Edinburgh                    7243\n",
       "North Las Vegas              7112\n",
       "Stuttgart                    5541\n",
       "Champaign                    5076\n",
       "Richmond Hill                4886\n",
       "Scarborough                  4248\n",
       "North York                   3550\n",
       "Goodyear                     3486\n",
       "Surprise                     3425\n",
       "Vaughan                      3060\n",
       "Concord                      2973\n",
       "Huntersville                 2657\n",
       "                            ...  \n",
       "St-Jerome                       3\n",
       "Camargo                         3\n",
       "Lacolle                         3\n",
       "N Ridgeville                    3\n",
       "Oakridges                       3\n",
       "Mirabel                         3\n",
       "Sainte-Rose                     3\n",
       "Mont St-hilaire                 3\n",
       "Joliette                        3\n",
       "Township of Concord             3\n",
       "Sainte-Marie                    3\n",
       "Tuscola                         3\n",
       "Ormstown                        3\n",
       "Oßweil                          3\n",
       "Wolfschlugen                    3\n",
       "St-Clet                         3\n",
       "Gorebridge                      3\n",
       "West Homestead                  3\n",
       "Seven Hills                     3\n",
       "Glasgow                         3\n",
       "Weddington                      3\n",
       "Alex                            3\n",
       "Aberlady                        3\n",
       "Summerlin South                 3\n",
       "Saint-Roch-De-L'achigan         3\n",
       "Saint-Charles-Borromée          3\n",
       "Chomedey, Laval                 3\n",
       "Old Port of Montreal            3\n",
       "Stowe                           3\n",
       "West Elizabeth                  3\n",
       "Name: city, Length: 553, dtype: int64"
      ]
     },
     "execution_count": 30,
     "metadata": {},
     "output_type": "execute_result"
    }
   ],
   "source": [
    "#number of comments per city. \n",
    "review_df['city'].value_counts()"
   ]
  },
  {
   "cell_type": "code",
   "execution_count": 34,
   "metadata": {},
   "outputs": [],
   "source": [
    "#selecting comments from Las Vegas\n",
    "review_Vegas=review_df[review_df['city']==\"Las Vegas\"]"
   ]
  },
  {
   "cell_type": "code",
   "execution_count": 35,
   "metadata": {},
   "outputs": [
    {
     "data": {
      "text/plain": [
       "(244973, 6)"
      ]
     },
     "execution_count": 35,
     "metadata": {},
     "output_type": "execute_result"
    }
   ],
   "source": [
    "review_Vegas.shape"
   ]
  },
  {
   "cell_type": "code",
   "execution_count": 36,
   "metadata": {},
   "outputs": [
    {
     "data": {
      "text/html": [
       "<div>\n",
       "<style scoped>\n",
       "    .dataframe tbody tr th:only-of-type {\n",
       "        vertical-align: middle;\n",
       "    }\n",
       "\n",
       "    .dataframe tbody tr th {\n",
       "        vertical-align: top;\n",
       "    }\n",
       "\n",
       "    .dataframe thead th {\n",
       "        text-align: right;\n",
       "    }\n",
       "</style>\n",
       "<table border=\"1\" class=\"dataframe\">\n",
       "  <thead>\n",
       "    <tr style=\"text-align: right;\">\n",
       "      <th></th>\n",
       "      <th>user_id</th>\n",
       "      <th>name</th>\n",
       "      <th>stars_x</th>\n",
       "      <th>text</th>\n",
       "      <th>city</th>\n",
       "      <th>categories</th>\n",
       "    </tr>\n",
       "  </thead>\n",
       "  <tbody>\n",
       "    <tr>\n",
       "      <th>4298</th>\n",
       "      <td>tL2pS5UOmN6aAOi3Z-qFGg</td>\n",
       "      <td>\"McDonald's\"</td>\n",
       "      <td>3</td>\n",
       "      <td>I've stopped in here several times. It's alway...</td>\n",
       "      <td>Las Vegas</td>\n",
       "      <td>Restaurants;Fast Food;Food;Burgers</td>\n",
       "    </tr>\n",
       "    <tr>\n",
       "      <th>4299</th>\n",
       "      <td>Tgo-NHUmzX8SeVad5_-vug</td>\n",
       "      <td>\"McDonald's\"</td>\n",
       "      <td>5</td>\n",
       "      <td>Best customer service in town! Super polite te...</td>\n",
       "      <td>Las Vegas</td>\n",
       "      <td>Restaurants;Fast Food;Food;Burgers</td>\n",
       "    </tr>\n",
       "    <tr>\n",
       "      <th>4300</th>\n",
       "      <td>vSzquh2Ym99tpksfpWH2kg</td>\n",
       "      <td>\"McDonald's\"</td>\n",
       "      <td>1</td>\n",
       "      <td>I would give no stars if I could. Ordered a va...</td>\n",
       "      <td>Las Vegas</td>\n",
       "      <td>Restaurants;Fast Food;Food;Burgers</td>\n",
       "    </tr>\n",
       "    <tr>\n",
       "      <th>4301</th>\n",
       "      <td>LnC93etRS5OZG-VDZHdSkw</td>\n",
       "      <td>\"McDonald's\"</td>\n",
       "      <td>2</td>\n",
       "      <td>I know its just McDonalds not the White House ...</td>\n",
       "      <td>Las Vegas</td>\n",
       "      <td>Restaurants;Fast Food;Food;Burgers</td>\n",
       "    </tr>\n",
       "    <tr>\n",
       "      <th>4302</th>\n",
       "      <td>2elkzAuFQdvCz0_K6MP4Dw</td>\n",
       "      <td>\"McDonald's\"</td>\n",
       "      <td>5</td>\n",
       "      <td>We had an amazing experience here. It's very n...</td>\n",
       "      <td>Las Vegas</td>\n",
       "      <td>Restaurants;Fast Food;Food;Burgers</td>\n",
       "    </tr>\n",
       "  </tbody>\n",
       "</table>\n",
       "</div>"
      ],
      "text/plain": [
       "                     user_id          name  stars_x  \\\n",
       "4298  tL2pS5UOmN6aAOi3Z-qFGg  \"McDonald's\"        3   \n",
       "4299  Tgo-NHUmzX8SeVad5_-vug  \"McDonald's\"        5   \n",
       "4300  vSzquh2Ym99tpksfpWH2kg  \"McDonald's\"        1   \n",
       "4301  LnC93etRS5OZG-VDZHdSkw  \"McDonald's\"        2   \n",
       "4302  2elkzAuFQdvCz0_K6MP4Dw  \"McDonald's\"        5   \n",
       "\n",
       "                                                   text       city  \\\n",
       "4298  I've stopped in here several times. It's alway...  Las Vegas   \n",
       "4299  Best customer service in town! Super polite te...  Las Vegas   \n",
       "4300  I would give no stars if I could. Ordered a va...  Las Vegas   \n",
       "4301  I know its just McDonalds not the White House ...  Las Vegas   \n",
       "4302  We had an amazing experience here. It's very n...  Las Vegas   \n",
       "\n",
       "                              categories  \n",
       "4298  Restaurants;Fast Food;Food;Burgers  \n",
       "4299  Restaurants;Fast Food;Food;Burgers  \n",
       "4300  Restaurants;Fast Food;Food;Burgers  \n",
       "4301  Restaurants;Fast Food;Food;Burgers  \n",
       "4302  Restaurants;Fast Food;Food;Burgers  "
      ]
     },
     "execution_count": 36,
     "metadata": {},
     "output_type": "execute_result"
    }
   ],
   "source": [
    "review_Vegas.head()"
   ]
  },
  {
   "cell_type": "code",
   "execution_count": 37,
   "metadata": {},
   "outputs": [],
   "source": [
    "#exporting csv\n",
    "review_Vegas.to_csv('Vegas.csv')"
   ]
  },
  {
   "cell_type": "code",
   "execution_count": 38,
   "metadata": {},
   "outputs": [
    {
     "name": "stdout",
     "output_type": "stream",
     "text": [
      "<class 'pandas.core.frame.DataFrame'>\n",
      "Int64Index: 244973 entries, 4298 to 897070\n",
      "Data columns (total 6 columns):\n",
      "user_id       244973 non-null object\n",
      "name          244973 non-null object\n",
      "stars_x       244973 non-null int64\n",
      "text          244973 non-null object\n",
      "city          244973 non-null object\n",
      "categories    244973 non-null object\n",
      "dtypes: int64(1), object(5)\n",
      "memory usage: 13.1+ MB\n"
     ]
    }
   ],
   "source": [
    "review_Vegas.info()"
   ]
  },
  {
   "cell_type": "markdown",
   "metadata": {},
   "source": [
    "# Data Cleaning"
   ]
  },
  {
   "cell_type": "code",
   "execution_count": 39,
   "metadata": {},
   "outputs": [
    {
     "name": "stderr",
     "output_type": "stream",
     "text": [
      "C:\\Users\\John\\Anaconda3\\lib\\site-packages\\ipykernel_launcher.py:1: FutureWarning: Method .as_matrix will be removed in a future version. Use .values instead.\n",
      "  \"\"\"Entry point for launching an IPython kernel.\n"
     ]
    }
   ],
   "source": [
    "review_arr =  review_Vegas.as_matrix()"
   ]
  },
  {
   "cell_type": "code",
   "execution_count": 40,
   "metadata": {},
   "outputs": [
    {
     "data": {
      "text/plain": [
       "(244973, 6)"
      ]
     },
     "execution_count": 40,
     "metadata": {},
     "output_type": "execute_result"
    }
   ],
   "source": [
    "review_arr.shape"
   ]
  },
  {
   "cell_type": "code",
   "execution_count": 41,
   "metadata": {},
   "outputs": [],
   "source": [
    "clean_ar = np.empty(shape=(review_arr.shape), dtype=object)"
   ]
  },
  {
   "cell_type": "code",
   "execution_count": 42,
   "metadata": {},
   "outputs": [
    {
     "data": {
      "text/plain": [
       "NoneType"
      ]
     },
     "execution_count": 42,
     "metadata": {},
     "output_type": "execute_result"
    }
   ],
   "source": [
    "type(clean_ar[0][1])"
   ]
  },
  {
   "cell_type": "code",
   "execution_count": null,
   "metadata": {},
   "outputs": [],
   "source": []
  }
 ],
 "metadata": {
  "kernelspec": {
   "display_name": "Python 3",
   "language": "python",
   "name": "python3"
  },
  "language_info": {
   "codemirror_mode": {
    "name": "ipython",
    "version": 3
   },
   "file_extension": ".py",
   "mimetype": "text/x-python",
   "name": "python",
   "nbconvert_exporter": "python",
   "pygments_lexer": "ipython3",
   "version": "3.6.5"
  }
 },
 "nbformat": 4,
 "nbformat_minor": 2
}
