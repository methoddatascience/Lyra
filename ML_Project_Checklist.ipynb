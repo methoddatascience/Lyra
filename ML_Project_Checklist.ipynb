{
 "cells": [
  {
   "cell_type": "markdown",
   "metadata": {},
   "source": [
    "# Machine Learning Project Checklist\n",
    "(shared by John Hernandez from \"Hands On Machine Learning With scikit learn and tensor flow\", Jupyter Notebook by Jess)"
   ]
  },
  {
   "cell_type": "markdown",
   "metadata": {},
   "source": [
    "## Frame the problem and look at the big picture\n",
    "\n",
    "1. Define the objective in business terms.  \n",
    "2. How will your solution be used?  \n",
    "3. What are the current solutions/workarounds (if any)?  \n",
    "4. How should you frame this problem (supervised/unsupervised, online/offline, etc.)?  \n",
    "5. How should performance be measured?  \n",
    "6. I the performance measure aligned with the business objective?  \n",
    "7. What would be the minimum performation needed to reach the business objective?  \n",
    "8. What are comparable problems?  Can you reuse experience or tools?  \n",
    "9. Is human expertise available?  \n",
    "10. How would you solve the problem manually?  \n",
    "11. List the assumptions you (or others) have made so far.  \n",
    "12. Verify assumptions, if possible."
   ]
  },
  {
   "cell_type": "markdown",
   "metadata": {},
   "source": [
    "## Get the data\n",
    "\n",
    "1. List the data you need and how much you need.\n",
    "2. Find and documentwhere you can get that data.\n",
    "3. Check how much space it will take.\n",
    "4. Check legal obligations and get authorization, if necessary.\n",
    "5. Get access authorizations.\n",
    "6. Create a workspace (with enough storage space).\n",
    "7. Get the data.\n",
    "8. Convert the data to a format you can easily manipulate (without changing the data itself).\n",
    "9. Ensure sensitive information is deleted or protected (e.g. anonymized).\n",
    "10. Check the size and type of data (time seriew, sample, geographical, etc.).\n",
    "11. Sample a test set, put it aside, and never look at it (no data snooping!)."
   ]
  },
  {
   "cell_type": "markdown",
   "metadata": {},
   "source": [
    "## Explore the data\n",
    "\n",
    "Note: try to get insights from a field expert for these steps.\n",
    "\n",
    "1. Create a copy of hte data for exploration (sampling it down to a manageable size if necessary).  \n",
    "2.  Create a Jupyter notebook to keep a record of your data exploration.  \n",
    "3. Study each attribute and its characteristics:  \n",
    "   * Name  \n",
    "   * Type (categorical, int/float, bounded/unbounded, text, structured, etc.)  \n",
    "   * % of missing values  \n",
    "   * Noisiness and type of noise (stochastic, outliers, rounding errors, etc.)  \n",
    "   * Possibly useful for the task?  \n",
    "   * Type of distribution (Gaussian, uniform, logarithmic, etc.)     \n",
    "4. For supervised learning tasks, identify the target attribute(s).  \n",
    "5. Visualize the data.  \n",
    "6. Study the correlations between attributes.  \n",
    "7. Study how you would solve the problem manually.  \n",
    "8. Identify the promising transformations you may want to apply.  \n",
    "9. Identify extra data that would be useful (go back to \"Get the Data\" on page 500).  \n",
    "10. Document what you have learned."
   ]
  },
  {
   "cell_type": "markdown",
   "metadata": {},
   "source": [
    "## Prepare the data\n",
    "\n",
    "Notes:  \n",
    "Work on copies of the data (keep the original dataset intact)  \n",
    "Write functions for all data transformations you appply, for five reasons  \n",
    "   * So you can easily prepare the data the next time you get a fresh dataset  \n",
    "   * So you can apply these transformations in future projects  \n",
    "   * To clean and prepare the test set  \n",
    "   * To clean and prepare new data instances once your solution is live  \n",
    "   * To make it easy to treat your preparation choices as hyperparameters\n",
    "\n",
    "1. Data cleaning:  \n",
    "   * Fix or remove outliers (optional).  \n",
    "   * Fill in missing values (e.g. with zero, mean, median) or drop their rows or columns.  \n",
    "2. Feature selection (optional)  \n",
    "   * Drop the attributes that provide no useful information for the task.  \n",
    "3. Feature engineering, where appropriate:  \n",
    "   * Discretize continuous features.  \n",
    "   * Decompose features (e.g. categorical, date/time, etc.)  \n",
    "   * Add promising transformations of features (e.g. log(x), sqrt(x), X^2, etc.)  \n",
    "   * Aggregate features into prommising new features.  \n",
    "4. Feature scaling: standardize or normalize features."
   ]
  },
  {
   "cell_type": "markdown",
   "metadata": {},
   "source": [
    "## Shortlist promising models\n",
    "\n",
    "Notes:  \n",
    "If the data is huge, you may want to sample smaller training sets so you can train many different models in a reasonable time (be aware that this penalizes complex models such as large neural nets or Random Forests).  \n",
    "Once again, try to automate these steps as much as possible.  \n",
    "\n",
    "1. Train many quick and dirty models from different categories (e.g. linear, Naive Bayes, SVM, Random Forests, neural net, etc.) using standard parameters.  \n",
    "2. Measure and compare their performance.  \n",
    "   * For each model, use N-fold cross-validation and compute the mean and standard deviation of the performance measure on the N folds.  \n",
    "3. Analyze the most significant variables for each algorithm.  \n",
    "4. Analyze the types of errors the models make.  \n",
    "   * What data would a human have used to avoid these errors?  \n",
    "5. Have a quick round of feature selection and engineering.  \n",
    "6. Have one or two more quick iterations of the five previous steps.  \n",
    "7. Short-list the top three to five most promising models, preferring models that make different types of errors."
   ]
  },
  {
   "cell_type": "markdown",
   "metadata": {},
   "source": [
    "## Fine-Tune the System\n",
    "\n",
    "Notes:  \n",
    "* You will want to use as much data as possible for this step, especially as you move toward the end of fine-tuning.  \n",
    "* As always automate what you can."
   ]
  }
 ],
 "metadata": {
  "kernelspec": {
   "display_name": "Python [conda env:anaconda3]",
   "language": "python",
   "name": "conda-env-anaconda3-py"
  },
  "language_info": {
   "codemirror_mode": {
    "name": "ipython",
    "version": 3
   },
   "file_extension": ".py",
   "mimetype": "text/x-python",
   "name": "python",
   "nbconvert_exporter": "python",
   "pygments_lexer": "ipython3",
   "version": "3.6.5"
  }
 },
 "nbformat": 4,
 "nbformat_minor": 2
}
